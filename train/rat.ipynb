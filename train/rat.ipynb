{
 "cells": [
  {
   "cell_type": "code",
   "execution_count": 1,
   "id": "eef3f4e8-a044-41cc-af37-7f9cbde1a05a",
   "metadata": {},
   "outputs": [
    {
     "data": {
      "text/plain": [
       "True"
      ]
     },
     "execution_count": 1,
     "metadata": {},
     "output_type": "execute_result"
    }
   ],
   "source": [
    "import numpy as np\n",
    "import pandas as pd\n",
    "\n",
    "import torch\n",
    "from torch import nn\n",
    "from torch import optim\n",
    "import torch.nn.functional as F\n",
    "# import torchvision\n",
    "# import torchvision.transforms as transforms\n",
    "from torch.nn.utils.rnn import pad_sequence, pack_padded_sequence, pad_packed_sequence\n",
    "\n",
    "import matplotlib.pyplot as plt\n",
    "# import seaborn as sns\n",
    "%matplotlib inline\n",
    "\n",
    "from IPython.display import clear_output\n",
    "from tqdm.notebook import tqdm\n",
    "import os, re\n",
    "# from PIL import Image\n",
    "\n",
    "from sklearn.model_selection import train_test_split \n",
    "\n",
    "device = 'cuda:0'\n",
    "torch.cuda.set_device(0)\n",
    "\n",
    "# import spacy\n",
    "# nlp = spacy.load(\"ru_core_news_md\")\n",
    "# tokenizer = nlp.tokenizer\n",
    "\n",
    "import sentencepiece as spm\n",
    "sp = spm.SentencePieceProcessor()\n",
    "sp.load('m.model')\n"
   ]
  },
  {
   "cell_type": "code",
   "execution_count": 80,
   "id": "92e6999a-36d2-4d27-ab5a-66bffcee57a7",
   "metadata": {},
   "outputs": [],
   "source": [
    "# data = pd.read_json('posts.json')"
   ]
  },
  {
   "cell_type": "code",
   "execution_count": 81,
   "id": "b064aedd-5153-4fd8-9ecc-02e3a707f4b6",
   "metadata": {},
   "outputs": [],
   "source": [
    "# data.head(10)"
   ]
  },
  {
   "cell_type": "code",
   "execution_count": 82,
   "id": "37c4d16f-f0d4-421d-bd6f-656b6fdaec3a",
   "metadata": {
    "tags": []
   },
   "outputs": [],
   "source": [
    "# len(data)"
   ]
  },
  {
   "cell_type": "code",
   "execution_count": 11,
   "id": "2e44f3e7-e26a-4594-b06a-860655e7fa64",
   "metadata": {},
   "outputs": [],
   "source": [
    "dice = re.compile(r'(\\d+d\\d+): .+ = \\d+')\n",
    "def reverse_dice(row):\n",
    "    try:\n",
    "        row.comment = re.sub(r'>>\\d+', '', row.comment)\n",
    "        dices = dice.findall(row.comment)\n",
    "        for d in dices:\n",
    "            row.comment = dice.sub(f'##{d}##', row.comment, 1)\n",
    "    finally:\n",
    "        return row\n",
    "def remove_dice(row):\n",
    "    try:\n",
    "        row.comment = re.sub(r'>>\\d+', '', row.comment)\n",
    "        row.comment = dice.sub('', row.comment)\n",
    "    finally:\n",
    "        return row"
   ]
  },
  {
   "cell_type": "code",
   "execution_count": 2,
   "id": "e19537e3-55bf-41f7-9229-2d7baddd8ed2",
   "metadata": {
    "tags": []
   },
   "outputs": [
    {
     "data": {
      "text/html": [
       "<div>\n",
       "<style scoped>\n",
       "    .dataframe tbody tr th:only-of-type {\n",
       "        vertical-align: middle;\n",
       "    }\n",
       "\n",
       "    .dataframe tbody tr th {\n",
       "        vertical-align: top;\n",
       "    }\n",
       "\n",
       "    .dataframe thead th {\n",
       "        text-align: right;\n",
       "    }\n",
       "</style>\n",
       "<table border=\"1\" class=\"dataframe\">\n",
       "  <thead>\n",
       "    <tr style=\"text-align: right;\">\n",
       "      <th></th>\n",
       "      <th>Unnamed: 0</th>\n",
       "      <th>banned</th>\n",
       "      <th>closed</th>\n",
       "      <th>comment</th>\n",
       "      <th>date</th>\n",
       "      <th>email</th>\n",
       "      <th>endless</th>\n",
       "      <th>files</th>\n",
       "      <th>lasthit</th>\n",
       "      <th>name</th>\n",
       "      <th>num</th>\n",
       "      <th>number</th>\n",
       "      <th>op</th>\n",
       "      <th>parent</th>\n",
       "      <th>sticky</th>\n",
       "      <th>subject</th>\n",
       "      <th>tags</th>\n",
       "      <th>timestamp</th>\n",
       "      <th>trip</th>\n",
       "    </tr>\n",
       "  </thead>\n",
       "  <tbody>\n",
       "    <tr>\n",
       "      <th>0</th>\n",
       "      <td>0</td>\n",
       "      <td>0</td>\n",
       "      <td>1</td>\n",
       "      <td>Теперь у /2d/ есть официальная конференция в д...</td>\n",
       "      <td>05/03/21 Птн 17:45:31</td>\n",
       "      <td>NaN</td>\n",
       "      <td>0</td>\n",
       "      <td>[{'displayname': '14693895545370.jpg', 'fullna...</td>\n",
       "      <td>1614955531</td>\n",
       "      <td>Аниме</td>\n",
       "      <td>2659764</td>\n",
       "      <td>1</td>\n",
       "      <td>0</td>\n",
       "      <td>0</td>\n",
       "      <td>4</td>\n",
       "      <td>Официальная конференция</td>\n",
       "      <td>NaN</td>\n",
       "      <td>2021-03-05 14:45:31</td>\n",
       "      <td>NaN</td>\n",
       "    </tr>\n",
       "    <tr>\n",
       "      <th>1</th>\n",
       "      <td>1</td>\n",
       "      <td>0</td>\n",
       "      <td>0</td>\n",
       "      <td>Venenatis facilisi potenti curae aenean lobort...</td>\n",
       "      <td>05/03/21 Птн 11:41:16</td>\n",
       "      <td>NaN</td>\n",
       "      <td>0</td>\n",
       "      <td>[{'displayname': '.png', 'fullname': '.png', '...</td>\n",
       "      <td>1615065954</td>\n",
       "      <td>Аниме</td>\n",
       "      <td>2658718</td>\n",
       "      <td>1</td>\n",
       "      <td>0</td>\n",
       "      <td>0</td>\n",
       "      <td>0</td>\n",
       "      <td></td>\n",
       "      <td>NaN</td>\n",
       "      <td>2021-03-05 08:41:16</td>\n",
       "      <td>NaN</td>\n",
       "    </tr>\n",
       "    <tr>\n",
       "      <th>2</th>\n",
       "      <td>2</td>\n",
       "      <td>0</td>\n",
       "      <td>0</td>\n",
       "      <td>Среньк</td>\n",
       "      <td>05/03/21 Птн 11:42:59</td>\n",
       "      <td>NaN</td>\n",
       "      <td>0</td>\n",
       "      <td>[]</td>\n",
       "      <td>1615065954</td>\n",
       "      <td>Аниме</td>\n",
       "      <td>2658723</td>\n",
       "      <td>2</td>\n",
       "      <td>0</td>\n",
       "      <td>2658718</td>\n",
       "      <td>0</td>\n",
       "      <td>NaN</td>\n",
       "      <td>NaN</td>\n",
       "      <td>2021-03-05 08:42:59</td>\n",
       "      <td>NaN</td>\n",
       "    </tr>\n",
       "    <tr>\n",
       "      <th>3</th>\n",
       "      <td>3</td>\n",
       "      <td>0</td>\n",
       "      <td>0</td>\n",
       "      <td>##1d100##</td>\n",
       "      <td>05/03/21 Птн 11:46:30</td>\n",
       "      <td>NaN</td>\n",
       "      <td>0</td>\n",
       "      <td>[{'displayname': '.png', 'fullname': '.png', '...</td>\n",
       "      <td>1615065954</td>\n",
       "      <td></td>\n",
       "      <td>2658732</td>\n",
       "      <td>3</td>\n",
       "      <td>0</td>\n",
       "      <td>2658718</td>\n",
       "      <td>0</td>\n",
       "      <td>NaN</td>\n",
       "      <td>NaN</td>\n",
       "      <td>2021-03-05 08:46:30</td>\n",
       "      <td>!Lia....BHw</td>\n",
       "    </tr>\n",
       "    <tr>\n",
       "      <th>4</th>\n",
       "      <td>4</td>\n",
       "      <td>0</td>\n",
       "      <td>0</td>\n",
       "      <td>очень мудрая фраза в оппосте</td>\n",
       "      <td>05/03/21 Птн 11:46:47</td>\n",
       "      <td>NaN</td>\n",
       "      <td>0</td>\n",
       "      <td>[{'displayname': '1614934005917.jpg', 'fullnam...</td>\n",
       "      <td>1615065954</td>\n",
       "      <td>Аниме</td>\n",
       "      <td>2658735</td>\n",
       "      <td>4</td>\n",
       "      <td>0</td>\n",
       "      <td>2658718</td>\n",
       "      <td>0</td>\n",
       "      <td>NaN</td>\n",
       "      <td>NaN</td>\n",
       "      <td>2021-03-05 08:46:47</td>\n",
       "      <td>NaN</td>\n",
       "    </tr>\n",
       "    <tr>\n",
       "      <th>5</th>\n",
       "      <td>5</td>\n",
       "      <td>0</td>\n",
       "      <td>0</td>\n",
       "      <td>Согласен. Это дотапаста кста?</td>\n",
       "      <td>05/03/21 Птн 11:50:27</td>\n",
       "      <td>NaN</td>\n",
       "      <td>0</td>\n",
       "      <td>[{'displayname': '1614934226919.jpg', 'fullnam...</td>\n",
       "      <td>1615065954</td>\n",
       "      <td>Аниме</td>\n",
       "      <td>2658742</td>\n",
       "      <td>5</td>\n",
       "      <td>0</td>\n",
       "      <td>2658718</td>\n",
       "      <td>0</td>\n",
       "      <td>NaN</td>\n",
       "      <td>NaN</td>\n",
       "      <td>2021-03-05 08:50:27</td>\n",
       "      <td>NaN</td>\n",
       "    </tr>\n",
       "    <tr>\n",
       "      <th>6</th>\n",
       "      <td>6</td>\n",
       "      <td>0</td>\n",
       "      <td>0</td>\n",
       "      <td>shizopasta</td>\n",
       "      <td>05/03/21 Птн 11:51:20</td>\n",
       "      <td>NaN</td>\n",
       "      <td>0</td>\n",
       "      <td>[{'displayname': '.png', 'fullname': '.png', '...</td>\n",
       "      <td>1615065954</td>\n",
       "      <td></td>\n",
       "      <td>2658745</td>\n",
       "      <td>6</td>\n",
       "      <td>0</td>\n",
       "      <td>2658718</td>\n",
       "      <td>0</td>\n",
       "      <td>NaN</td>\n",
       "      <td>NaN</td>\n",
       "      <td>2021-03-05 08:51:20</td>\n",
       "      <td>!Lia....BHw</td>\n",
       "    </tr>\n",
       "    <tr>\n",
       "      <th>7</th>\n",
       "      <td>7</td>\n",
       "      <td>0</td>\n",
       "      <td>0</td>\n",
       "      <td>##1d100##</td>\n",
       "      <td>05/03/21 Птн 11:54:25</td>\n",
       "      <td>NaN</td>\n",
       "      <td>0</td>\n",
       "      <td>[{'displayname': '⛆⛆⛆⛆⛆⛆', 'fullname': '⛆⛆⛆⛆⛆⛆...</td>\n",
       "      <td>1615065954</td>\n",
       "      <td></td>\n",
       "      <td>2658755</td>\n",
       "      <td>7</td>\n",
       "      <td>0</td>\n",
       "      <td>2658718</td>\n",
       "      <td>0</td>\n",
       "      <td>NaN</td>\n",
       "      <td>NaN</td>\n",
       "      <td>2021-03-05 08:54:25</td>\n",
       "      <td>!kit....tTk</td>\n",
       "    </tr>\n",
       "    <tr>\n",
       "      <th>8</th>\n",
       "      <td>8</td>\n",
       "      <td>0</td>\n",
       "      <td>0</td>\n",
       "      <td>Только истинные шизы способны перевести и поня...</td>\n",
       "      <td>05/03/21 Птн 11:56:12</td>\n",
       "      <td>NaN</td>\n",
       "      <td>0</td>\n",
       "      <td>[{'displayname': '1614934571345.jpg', 'fullnam...</td>\n",
       "      <td>1615065954</td>\n",
       "      <td>Аниме</td>\n",
       "      <td>2658759</td>\n",
       "      <td>8</td>\n",
       "      <td>0</td>\n",
       "      <td>2658718</td>\n",
       "      <td>0</td>\n",
       "      <td>NaN</td>\n",
       "      <td>NaN</td>\n",
       "      <td>2021-03-05 08:56:12</td>\n",
       "      <td>NaN</td>\n",
       "    </tr>\n",
       "    <tr>\n",
       "      <th>9</th>\n",
       "      <td>9</td>\n",
       "      <td>0</td>\n",
       "      <td>0</td>\n",
       "      <td>Хорошо поспал</td>\n",
       "      <td>05/03/21 Птн 11:56:34</td>\n",
       "      <td>NaN</td>\n",
       "      <td>0</td>\n",
       "      <td>[{'displayname': '1614934593839.jpg', 'fullnam...</td>\n",
       "      <td>1615065954</td>\n",
       "      <td>Аниме</td>\n",
       "      <td>2658762</td>\n",
       "      <td>9</td>\n",
       "      <td>0</td>\n",
       "      <td>2658718</td>\n",
       "      <td>0</td>\n",
       "      <td>NaN</td>\n",
       "      <td>NaN</td>\n",
       "      <td>2021-03-05 08:56:34</td>\n",
       "      <td>NaN</td>\n",
       "    </tr>\n",
       "  </tbody>\n",
       "</table>\n",
       "</div>"
      ],
      "text/plain": [
       "   Unnamed: 0  banned  closed  \\\n",
       "0           0       0       1   \n",
       "1           1       0       0   \n",
       "2           2       0       0   \n",
       "3           3       0       0   \n",
       "4           4       0       0   \n",
       "5           5       0       0   \n",
       "6           6       0       0   \n",
       "7           7       0       0   \n",
       "8           8       0       0   \n",
       "9           9       0       0   \n",
       "\n",
       "                                             comment                   date  \\\n",
       "0  Теперь у /2d/ есть официальная конференция в д...  05/03/21 Птн 17:45:31   \n",
       "1  Venenatis facilisi potenti curae aenean lobort...  05/03/21 Птн 11:41:16   \n",
       "2                                             Среньк  05/03/21 Птн 11:42:59   \n",
       "3                                          ##1d100##  05/03/21 Птн 11:46:30   \n",
       "4                       очень мудрая фраза в оппосте  05/03/21 Птн 11:46:47   \n",
       "5                      Согласен. Это дотапаста кста?  05/03/21 Птн 11:50:27   \n",
       "6                                         shizopasta  05/03/21 Птн 11:51:20   \n",
       "7                                          ##1d100##  05/03/21 Птн 11:54:25   \n",
       "8  Только истинные шизы способны перевести и поня...  05/03/21 Птн 11:56:12   \n",
       "9                                      Хорошо поспал  05/03/21 Птн 11:56:34   \n",
       "\n",
       "  email  endless                                              files  \\\n",
       "0   NaN        0  [{'displayname': '14693895545370.jpg', 'fullna...   \n",
       "1   NaN        0  [{'displayname': '.png', 'fullname': '.png', '...   \n",
       "2   NaN        0                                                 []   \n",
       "3   NaN        0  [{'displayname': '.png', 'fullname': '.png', '...   \n",
       "4   NaN        0  [{'displayname': '1614934005917.jpg', 'fullnam...   \n",
       "5   NaN        0  [{'displayname': '1614934226919.jpg', 'fullnam...   \n",
       "6   NaN        0  [{'displayname': '.png', 'fullname': '.png', '...   \n",
       "7   NaN        0  [{'displayname': '⛆⛆⛆⛆⛆⛆', 'fullname': '⛆⛆⛆⛆⛆⛆...   \n",
       "8   NaN        0  [{'displayname': '1614934571345.jpg', 'fullnam...   \n",
       "9   NaN        0  [{'displayname': '1614934593839.jpg', 'fullnam...   \n",
       "\n",
       "      lasthit   name      num  number  op   parent  sticky  \\\n",
       "0  1614955531  Аниме  2659764       1   0        0       4   \n",
       "1  1615065954  Аниме  2658718       1   0        0       0   \n",
       "2  1615065954  Аниме  2658723       2   0  2658718       0   \n",
       "3  1615065954         2658732       3   0  2658718       0   \n",
       "4  1615065954  Аниме  2658735       4   0  2658718       0   \n",
       "5  1615065954  Аниме  2658742       5   0  2658718       0   \n",
       "6  1615065954         2658745       6   0  2658718       0   \n",
       "7  1615065954         2658755       7   0  2658718       0   \n",
       "8  1615065954  Аниме  2658759       8   0  2658718       0   \n",
       "9  1615065954  Аниме  2658762       9   0  2658718       0   \n",
       "\n",
       "                   subject  tags            timestamp         trip  \n",
       "0  Официальная конференция   NaN  2021-03-05 14:45:31          NaN  \n",
       "1                            NaN  2021-03-05 08:41:16          NaN  \n",
       "2                      NaN   NaN  2021-03-05 08:42:59          NaN  \n",
       "3                      NaN   NaN  2021-03-05 08:46:30  !Lia....BHw  \n",
       "4                      NaN   NaN  2021-03-05 08:46:47          NaN  \n",
       "5                      NaN   NaN  2021-03-05 08:50:27          NaN  \n",
       "6                      NaN   NaN  2021-03-05 08:51:20  !Lia....BHw  \n",
       "7                      NaN   NaN  2021-03-05 08:54:25  !kit....tTk  \n",
       "8                      NaN   NaN  2021-03-05 08:56:12          NaN  \n",
       "9                      NaN   NaN  2021-03-05 08:56:34          NaN  "
      ]
     },
     "execution_count": 2,
     "metadata": {},
     "output_type": "execute_result"
    }
   ],
   "source": [
    "# data2 = data.apply(reverse_dice, axis=1)\n",
    "data2 = pd.read_csv('data2.csv')\n",
    "data2.comment = data2.comment.astype(str)\n",
    "data2.head(10)"
   ]
  },
  {
   "cell_type": "code",
   "execution_count": 7,
   "id": "c197b167-4190-4a2f-8dab-ee027270aa38",
   "metadata": {},
   "outputs": [],
   "source": []
  },
  {
   "cell_type": "code",
   "execution_count": 22,
   "id": "eb3a4987-3c16-4a40-8cad-448a7535458b",
   "metadata": {
    "tags": []
   },
   "outputs": [],
   "source": [
    "def tokenize(row):\n",
    "    row['comment'] = [token.text_with_ws for token in tokenizer(row['comment'])]\n",
    "    return row"
   ]
  },
  {
   "cell_type": "code",
   "execution_count": 9,
   "id": "57c2894f-9a6e-49f0-8322-5d0bbb46b7e1",
   "metadata": {},
   "outputs": [],
   "source": [
    "def n_char(row, n = 3):\n",
    "    row['comment'] = [row['comment'][i:i+n] for i in range(0, len(row['comment']) - n + 1, n)]\n",
    "    return row"
   ]
  },
  {
   "cell_type": "code",
   "execution_count": 7,
   "id": "22e20f14-d122-4581-be30-52e03a279fde",
   "metadata": {},
   "outputs": [],
   "source": [
    "# import sentencepiece as spm\n",
    "# spm.SentencePieceTrainer.train(input='data2.csv', model_prefix='m' ,vocab_size=2000)"
   ]
  },
  {
   "cell_type": "code",
   "execution_count": 3,
   "id": "23db0989-43ff-45e1-8725-61e592b22699",
   "metadata": {},
   "outputs": [],
   "source": [
    "def sent_pieces(row):\n",
    "    row['comment'] = sp.encode_as_pieces(row['comment'])\n",
    "    return row"
   ]
  },
  {
   "cell_type": "code",
   "execution_count": null,
   "id": "5c6bc047-540c-45b9-9ab1-851679cab169",
   "metadata": {},
   "outputs": [],
   "source": []
  },
  {
   "cell_type": "code",
   "execution_count": 85,
   "id": "ca632e6f-d8c3-487c-8376-5dff79c44682",
   "metadata": {},
   "outputs": [],
   "source": [
    "# data4 = pd.read_csv('data4.csv')\n",
    "# data4 = data2.apply(tokenize, axis=1)\n",
    "# data4.head(10)"
   ]
  },
  {
   "cell_type": "code",
   "execution_count": 86,
   "id": "4b3c88b7-336f-49d3-a40a-ed50fd8f1f9c",
   "metadata": {},
   "outputs": [],
   "source": [
    "# data4.to_csv('data4.csv')"
   ]
  },
  {
   "cell_type": "code",
   "execution_count": 87,
   "id": "a2f210df-1150-4cfc-ba0a-671b6023f21f",
   "metadata": {},
   "outputs": [],
   "source": [
    "# data5 = data2.apply(n_char, axis=1)\n",
    "# data5.head(10)"
   ]
  },
  {
   "cell_type": "code",
   "execution_count": 4,
   "id": "48d371e4-538a-44f1-81cd-ba60b006141d",
   "metadata": {},
   "outputs": [
    {
     "data": {
      "text/html": [
       "<div>\n",
       "<style scoped>\n",
       "    .dataframe tbody tr th:only-of-type {\n",
       "        vertical-align: middle;\n",
       "    }\n",
       "\n",
       "    .dataframe tbody tr th {\n",
       "        vertical-align: top;\n",
       "    }\n",
       "\n",
       "    .dataframe thead th {\n",
       "        text-align: right;\n",
       "    }\n",
       "</style>\n",
       "<table border=\"1\" class=\"dataframe\">\n",
       "  <thead>\n",
       "    <tr style=\"text-align: right;\">\n",
       "      <th></th>\n",
       "      <th>Unnamed: 0</th>\n",
       "      <th>banned</th>\n",
       "      <th>closed</th>\n",
       "      <th>comment</th>\n",
       "      <th>date</th>\n",
       "      <th>email</th>\n",
       "      <th>endless</th>\n",
       "      <th>files</th>\n",
       "      <th>lasthit</th>\n",
       "      <th>name</th>\n",
       "      <th>num</th>\n",
       "      <th>number</th>\n",
       "      <th>op</th>\n",
       "      <th>parent</th>\n",
       "      <th>sticky</th>\n",
       "      <th>subject</th>\n",
       "      <th>tags</th>\n",
       "      <th>timestamp</th>\n",
       "      <th>trip</th>\n",
       "    </tr>\n",
       "  </thead>\n",
       "  <tbody>\n",
       "    <tr>\n",
       "      <th>0</th>\n",
       "      <td>0</td>\n",
       "      <td>0</td>\n",
       "      <td>1</td>\n",
       "      <td>[▁Т, е, пер, ь, ▁у, ▁, /2, d, /, ▁есть, ▁о, фи...</td>\n",
       "      <td>05/03/21 Птн 17:45:31</td>\n",
       "      <td>NaN</td>\n",
       "      <td>0</td>\n",
       "      <td>[{'displayname': '14693895545370.jpg', 'fullna...</td>\n",
       "      <td>1614955531</td>\n",
       "      <td>Аниме</td>\n",
       "      <td>2659764</td>\n",
       "      <td>1</td>\n",
       "      <td>0</td>\n",
       "      <td>0</td>\n",
       "      <td>4</td>\n",
       "      <td>Официальная конференция</td>\n",
       "      <td>NaN</td>\n",
       "      <td>2021-03-05 14:45:31</td>\n",
       "      <td>NaN</td>\n",
       "    </tr>\n",
       "    <tr>\n",
       "      <th>1</th>\n",
       "      <td>1</td>\n",
       "      <td>0</td>\n",
       "      <td>0</td>\n",
       "      <td>[▁, V, en, en, a, ti, s, ▁, f, ac, i, l, i, s,...</td>\n",
       "      <td>05/03/21 Птн 11:41:16</td>\n",
       "      <td>NaN</td>\n",
       "      <td>0</td>\n",
       "      <td>[{'displayname': '.png', 'fullname': '.png', '...</td>\n",
       "      <td>1615065954</td>\n",
       "      <td>Аниме</td>\n",
       "      <td>2658718</td>\n",
       "      <td>1</td>\n",
       "      <td>0</td>\n",
       "      <td>0</td>\n",
       "      <td>0</td>\n",
       "      <td></td>\n",
       "      <td>NaN</td>\n",
       "      <td>2021-03-05 08:41:16</td>\n",
       "      <td>NaN</td>\n",
       "    </tr>\n",
       "    <tr>\n",
       "      <th>2</th>\n",
       "      <td>2</td>\n",
       "      <td>0</td>\n",
       "      <td>0</td>\n",
       "      <td>[▁Ср, ень, к]</td>\n",
       "      <td>05/03/21 Птн 11:42:59</td>\n",
       "      <td>NaN</td>\n",
       "      <td>0</td>\n",
       "      <td>[]</td>\n",
       "      <td>1615065954</td>\n",
       "      <td>Аниме</td>\n",
       "      <td>2658723</td>\n",
       "      <td>2</td>\n",
       "      <td>0</td>\n",
       "      <td>2658718</td>\n",
       "      <td>0</td>\n",
       "      <td>NaN</td>\n",
       "      <td>NaN</td>\n",
       "      <td>2021-03-05 08:42:59</td>\n",
       "      <td>NaN</td>\n",
       "    </tr>\n",
       "    <tr>\n",
       "      <th>3</th>\n",
       "      <td>3</td>\n",
       "      <td>0</td>\n",
       "      <td>0</td>\n",
       "      <td>[▁##1, d, 100##]</td>\n",
       "      <td>05/03/21 Птн 11:46:30</td>\n",
       "      <td>NaN</td>\n",
       "      <td>0</td>\n",
       "      <td>[{'displayname': '.png', 'fullname': '.png', '...</td>\n",
       "      <td>1615065954</td>\n",
       "      <td></td>\n",
       "      <td>2658732</td>\n",
       "      <td>3</td>\n",
       "      <td>0</td>\n",
       "      <td>2658718</td>\n",
       "      <td>0</td>\n",
       "      <td>NaN</td>\n",
       "      <td>NaN</td>\n",
       "      <td>2021-03-05 08:46:30</td>\n",
       "      <td>!Lia....BHw</td>\n",
       "    </tr>\n",
       "    <tr>\n",
       "      <th>4</th>\n",
       "      <td>4</td>\n",
       "      <td>0</td>\n",
       "      <td>0</td>\n",
       "      <td>[▁очень, ▁му, д, ра, я, ▁ф, ра, за, ▁в, ▁о, п,...</td>\n",
       "      <td>05/03/21 Птн 11:46:47</td>\n",
       "      <td>NaN</td>\n",
       "      <td>0</td>\n",
       "      <td>[{'displayname': '1614934005917.jpg', 'fullnam...</td>\n",
       "      <td>1615065954</td>\n",
       "      <td>Аниме</td>\n",
       "      <td>2658735</td>\n",
       "      <td>4</td>\n",
       "      <td>0</td>\n",
       "      <td>2658718</td>\n",
       "      <td>0</td>\n",
       "      <td>NaN</td>\n",
       "      <td>NaN</td>\n",
       "      <td>2021-03-05 08:46:47</td>\n",
       "      <td>NaN</td>\n",
       "    </tr>\n",
       "    <tr>\n",
       "      <th>5</th>\n",
       "      <td>5</td>\n",
       "      <td>0</td>\n",
       "      <td>0</td>\n",
       "      <td>[▁С, ог, ла, се, н, ., ▁Это, ▁до, та, па, ста,...</td>\n",
       "      <td>05/03/21 Птн 11:50:27</td>\n",
       "      <td>NaN</td>\n",
       "      <td>0</td>\n",
       "      <td>[{'displayname': '1614934226919.jpg', 'fullnam...</td>\n",
       "      <td>1615065954</td>\n",
       "      <td>Аниме</td>\n",
       "      <td>2658742</td>\n",
       "      <td>5</td>\n",
       "      <td>0</td>\n",
       "      <td>2658718</td>\n",
       "      <td>0</td>\n",
       "      <td>NaN</td>\n",
       "      <td>NaN</td>\n",
       "      <td>2021-03-05 08:50:27</td>\n",
       "      <td>NaN</td>\n",
       "    </tr>\n",
       "    <tr>\n",
       "      <th>6</th>\n",
       "      <td>6</td>\n",
       "      <td>0</td>\n",
       "      <td>0</td>\n",
       "      <td>[▁, shi, z, o, p, a, st, a]</td>\n",
       "      <td>05/03/21 Птн 11:51:20</td>\n",
       "      <td>NaN</td>\n",
       "      <td>0</td>\n",
       "      <td>[{'displayname': '.png', 'fullname': '.png', '...</td>\n",
       "      <td>1615065954</td>\n",
       "      <td></td>\n",
       "      <td>2658745</td>\n",
       "      <td>6</td>\n",
       "      <td>0</td>\n",
       "      <td>2658718</td>\n",
       "      <td>0</td>\n",
       "      <td>NaN</td>\n",
       "      <td>NaN</td>\n",
       "      <td>2021-03-05 08:51:20</td>\n",
       "      <td>!Lia....BHw</td>\n",
       "    </tr>\n",
       "    <tr>\n",
       "      <th>7</th>\n",
       "      <td>7</td>\n",
       "      <td>0</td>\n",
       "      <td>0</td>\n",
       "      <td>[▁##1, d, 100##]</td>\n",
       "      <td>05/03/21 Птн 11:54:25</td>\n",
       "      <td>NaN</td>\n",
       "      <td>0</td>\n",
       "      <td>[{'displayname': '⛆⛆⛆⛆⛆⛆', 'fullname': '⛆⛆⛆⛆⛆⛆...</td>\n",
       "      <td>1615065954</td>\n",
       "      <td></td>\n",
       "      <td>2658755</td>\n",
       "      <td>7</td>\n",
       "      <td>0</td>\n",
       "      <td>2658718</td>\n",
       "      <td>0</td>\n",
       "      <td>NaN</td>\n",
       "      <td>NaN</td>\n",
       "      <td>2021-03-05 08:54:25</td>\n",
       "      <td>!kit....tTk</td>\n",
       "    </tr>\n",
       "    <tr>\n",
       "      <th>8</th>\n",
       "      <td>8</td>\n",
       "      <td>0</td>\n",
       "      <td>0</td>\n",
       "      <td>[▁Только, ▁и, сти, н, ные, ▁, ши, зы, ▁способ,...</td>\n",
       "      <td>05/03/21 Птн 11:56:12</td>\n",
       "      <td>NaN</td>\n",
       "      <td>0</td>\n",
       "      <td>[{'displayname': '1614934571345.jpg', 'fullnam...</td>\n",
       "      <td>1615065954</td>\n",
       "      <td>Аниме</td>\n",
       "      <td>2658759</td>\n",
       "      <td>8</td>\n",
       "      <td>0</td>\n",
       "      <td>2658718</td>\n",
       "      <td>0</td>\n",
       "      <td>NaN</td>\n",
       "      <td>NaN</td>\n",
       "      <td>2021-03-05 08:56:12</td>\n",
       "      <td>NaN</td>\n",
       "    </tr>\n",
       "    <tr>\n",
       "      <th>9</th>\n",
       "      <td>9</td>\n",
       "      <td>0</td>\n",
       "      <td>0</td>\n",
       "      <td>[▁, Хорош, о, ▁по, с, пал]</td>\n",
       "      <td>05/03/21 Птн 11:56:34</td>\n",
       "      <td>NaN</td>\n",
       "      <td>0</td>\n",
       "      <td>[{'displayname': '1614934593839.jpg', 'fullnam...</td>\n",
       "      <td>1615065954</td>\n",
       "      <td>Аниме</td>\n",
       "      <td>2658762</td>\n",
       "      <td>9</td>\n",
       "      <td>0</td>\n",
       "      <td>2658718</td>\n",
       "      <td>0</td>\n",
       "      <td>NaN</td>\n",
       "      <td>NaN</td>\n",
       "      <td>2021-03-05 08:56:34</td>\n",
       "      <td>NaN</td>\n",
       "    </tr>\n",
       "  </tbody>\n",
       "</table>\n",
       "</div>"
      ],
      "text/plain": [
       "   Unnamed: 0  banned  closed  \\\n",
       "0           0       0       1   \n",
       "1           1       0       0   \n",
       "2           2       0       0   \n",
       "3           3       0       0   \n",
       "4           4       0       0   \n",
       "5           5       0       0   \n",
       "6           6       0       0   \n",
       "7           7       0       0   \n",
       "8           8       0       0   \n",
       "9           9       0       0   \n",
       "\n",
       "                                             comment                   date  \\\n",
       "0  [▁Т, е, пер, ь, ▁у, ▁, /2, d, /, ▁есть, ▁о, фи...  05/03/21 Птн 17:45:31   \n",
       "1  [▁, V, en, en, a, ti, s, ▁, f, ac, i, l, i, s,...  05/03/21 Птн 11:41:16   \n",
       "2                                      [▁Ср, ень, к]  05/03/21 Птн 11:42:59   \n",
       "3                                   [▁##1, d, 100##]  05/03/21 Птн 11:46:30   \n",
       "4  [▁очень, ▁му, д, ра, я, ▁ф, ра, за, ▁в, ▁о, п,...  05/03/21 Птн 11:46:47   \n",
       "5  [▁С, ог, ла, се, н, ., ▁Это, ▁до, та, па, ста,...  05/03/21 Птн 11:50:27   \n",
       "6                        [▁, shi, z, o, p, a, st, a]  05/03/21 Птн 11:51:20   \n",
       "7                                   [▁##1, d, 100##]  05/03/21 Птн 11:54:25   \n",
       "8  [▁Только, ▁и, сти, н, ные, ▁, ши, зы, ▁способ,...  05/03/21 Птн 11:56:12   \n",
       "9                         [▁, Хорош, о, ▁по, с, пал]  05/03/21 Птн 11:56:34   \n",
       "\n",
       "  email  endless                                              files  \\\n",
       "0   NaN        0  [{'displayname': '14693895545370.jpg', 'fullna...   \n",
       "1   NaN        0  [{'displayname': '.png', 'fullname': '.png', '...   \n",
       "2   NaN        0                                                 []   \n",
       "3   NaN        0  [{'displayname': '.png', 'fullname': '.png', '...   \n",
       "4   NaN        0  [{'displayname': '1614934005917.jpg', 'fullnam...   \n",
       "5   NaN        0  [{'displayname': '1614934226919.jpg', 'fullnam...   \n",
       "6   NaN        0  [{'displayname': '.png', 'fullname': '.png', '...   \n",
       "7   NaN        0  [{'displayname': '⛆⛆⛆⛆⛆⛆', 'fullname': '⛆⛆⛆⛆⛆⛆...   \n",
       "8   NaN        0  [{'displayname': '1614934571345.jpg', 'fullnam...   \n",
       "9   NaN        0  [{'displayname': '1614934593839.jpg', 'fullnam...   \n",
       "\n",
       "      lasthit   name      num  number  op   parent  sticky  \\\n",
       "0  1614955531  Аниме  2659764       1   0        0       4   \n",
       "1  1615065954  Аниме  2658718       1   0        0       0   \n",
       "2  1615065954  Аниме  2658723       2   0  2658718       0   \n",
       "3  1615065954         2658732       3   0  2658718       0   \n",
       "4  1615065954  Аниме  2658735       4   0  2658718       0   \n",
       "5  1615065954  Аниме  2658742       5   0  2658718       0   \n",
       "6  1615065954         2658745       6   0  2658718       0   \n",
       "7  1615065954         2658755       7   0  2658718       0   \n",
       "8  1615065954  Аниме  2658759       8   0  2658718       0   \n",
       "9  1615065954  Аниме  2658762       9   0  2658718       0   \n",
       "\n",
       "                   subject  tags            timestamp         trip  \n",
       "0  Официальная конференция   NaN  2021-03-05 14:45:31          NaN  \n",
       "1                            NaN  2021-03-05 08:41:16          NaN  \n",
       "2                      NaN   NaN  2021-03-05 08:42:59          NaN  \n",
       "3                      NaN   NaN  2021-03-05 08:46:30  !Lia....BHw  \n",
       "4                      NaN   NaN  2021-03-05 08:46:47          NaN  \n",
       "5                      NaN   NaN  2021-03-05 08:50:27          NaN  \n",
       "6                      NaN   NaN  2021-03-05 08:51:20  !Lia....BHw  \n",
       "7                      NaN   NaN  2021-03-05 08:54:25  !kit....tTk  \n",
       "8                      NaN   NaN  2021-03-05 08:56:12          NaN  \n",
       "9                      NaN   NaN  2021-03-05 08:56:34          NaN  "
      ]
     },
     "execution_count": 4,
     "metadata": {},
     "output_type": "execute_result"
    }
   ],
   "source": [
    "data6 = data2.apply(sent_pieces, axis=1)\n",
    "data6.head(10)"
   ]
  },
  {
   "cell_type": "code",
   "execution_count": 5,
   "id": "3346dd05-ce8e-4940-8009-4fd67f0affe7",
   "metadata": {},
   "outputs": [],
   "source": [
    "trips = [\n",
    "    '!Emilia/ZMs',\n",
    "    '!Lia....BHw',\n",
    "    '!kit....tTk',\n",
    "    '!boshiWllUE',\n",
    "    '!Mira///H4Q',\n",
    "    '!ChocoPOTIE',\n",
    "    '!D3k0./L4kE',\n",
    "    '!SHIKIKInC.',\n",
    "]\n"
   ]
  },
  {
   "cell_type": "code",
   "execution_count": 14,
   "id": "f2fd5d0a-d263-4cd7-9e85-ac2934269cdc",
   "metadata": {},
   "outputs": [],
   "source": [
    "# data3 = data2[(data2.comment != '') & (data2.trip.isin(trips))]\n",
    "# data3 = pd.read_csv('data3.csv')"
   ]
  },
  {
   "cell_type": "code",
   "execution_count": 15,
   "id": "c04aad6b-bd97-4ca0-8123-c6e99bf73579",
   "metadata": {
    "tags": []
   },
   "outputs": [],
   "source": [
    "# data2.to_csv('data2.csv')\n",
    "# data3.to_csv('data3.csv')"
   ]
  },
  {
   "cell_type": "code",
   "execution_count": 4,
   "id": "702cec52-8258-4359-94be-b9866aa64d58",
   "metadata": {},
   "outputs": [
    {
     "data": {
      "text/plain": [
       "155554"
      ]
     },
     "execution_count": 4,
     "metadata": {},
     "output_type": "execute_result"
    }
   ],
   "source": [
    "# data2 = data3\n",
    "len(data2)"
   ]
  },
  {
   "cell_type": "code",
   "execution_count": 5,
   "id": "ca208495-1fc0-4d8b-90ea-8a7603ea1a36",
   "metadata": {},
   "outputs": [],
   "source": [
    "# data3 = data.apply(tokenize, axis=1)\n",
    "# data3 = data3[data3.comment.map(lambda x: len(x)) >= 3]\n",
    "# data3.head(10)"
   ]
  },
  {
   "cell_type": "code",
   "execution_count": 6,
   "id": "25c4e80c-0978-4f1a-87b1-55ff65320445",
   "metadata": {},
   "outputs": [
    {
     "data": {
      "text/plain": [
       "count    155554.000000\n",
       "mean         44.135940\n",
       "std         119.739657\n",
       "min           0.000000\n",
       "25%           9.000000\n",
       "50%          19.000000\n",
       "75%          40.000000\n",
       "max        8976.000000\n",
       "Name: comment, dtype: float64"
      ]
     },
     "execution_count": 6,
     "metadata": {},
     "output_type": "execute_result"
    }
   ],
   "source": [
    "data6.comment.map(lambda x: len(x)).describe()"
   ]
  },
  {
   "cell_type": "code",
   "execution_count": 7,
   "id": "f08c22c8-40ea-4fc2-b595-15264852af0a",
   "metadata": {},
   "outputs": [],
   "source": [
    "SOS = \"<start>\"\n",
    "EOS = \"<end>\"\n",
    "PAD = \"<pad>\"\n",
    "MAX = 50\n",
    "EMB_LEN = 200\n",
    "BATCH_SIZE = 128"
   ]
  },
  {
   "cell_type": "code",
   "execution_count": 8,
   "id": "3ca233d6-066b-4d65-96a7-2ed3634cf490",
   "metadata": {},
   "outputs": [],
   "source": [
    "class Vocab:\n",
    "    def __init__(self, df=None, vocab=None):\n",
    "        if not df is None:\n",
    "            self.vocab = {SOS, EOS, PAD}\n",
    "            for comment in df.comment:\n",
    "                self.vocab |= set(comment)\n",
    "        elif not vocab is None:\n",
    "            self.vocab = vocab\n",
    "        else: return\n",
    "        self.i2t = dict(enumerate(tuple(self.vocab)))\n",
    "        self.t2i = {w: i for i, w in self.i2t.items()}\n",
    "        self.SOS, self.EOS, self.PAD = (self.t2i[t] for t in (SOS, EOS, PAD))\n",
    "    def __len__(self):\n",
    "        return len(self.vocab)\n",
    "    \n",
    "    def __getitem__(self, key):\n",
    "        if isinstance(key, int):\n",
    "            return self.i2t.get(key, '')\n",
    "        elif isinstance(key, str):\n",
    "            return self.t2i.get(key, len(self.vocab))"
   ]
  },
  {
   "cell_type": "code",
   "execution_count": 9,
   "id": "07760c8b-490e-41fe-a649-704ad780f800",
   "metadata": {},
   "outputs": [],
   "source": [
    "class Dataset(torch.utils.data.Dataset):\n",
    "    def __init__(self, df, vocab):\n",
    "        self.input = []\n",
    "        self.target = []\n",
    "        for seq in tqdm(df.comment):\n",
    "            seq = [vocab.t2i[t] for t in seq if t in vocab.t2i]\n",
    "            seq = [vocab.SOS] + seq + [vocab.EOS]\n",
    "            l = min(len(seq) - 1, MAX)\n",
    "            padding = [vocab.PAD] * (MAX-l)\n",
    "            for i in range(len(seq) - l):\n",
    "                self.input.append(seq[i:i+l] + padding)\n",
    "                self.target.append(seq[i+1:i+l+1] + padding)  # seq[i+l])\n",
    "\n",
    "    def __len__(self):\n",
    "        return len(self.input)\n",
    "    \n",
    "    def __getitem__(self, idx):\n",
    "        input = torch.tensor(self.input[idx])\n",
    "        target = torch.tensor(self.target[idx])\n",
    "#         input = pad_sequence(self.input[idx],\n",
    "#                                 batch_first=True, padding_value=vocab.PAD)\n",
    "#         target = pad_sequence(self.target[idx],\n",
    "#                                 batch_first=True, padding_value=vocab.PAD)\n",
    "        mask = input.ne(vocab.PAD)\n",
    "        return input, target, mask"
   ]
  },
  {
   "cell_type": "code",
   "execution_count": 14,
   "id": "9ea6b677-133f-4eb8-95f4-a1c41808baa5",
   "metadata": {},
   "outputs": [],
   "source": [
    "data_ = data6.sort_values(by='timestamp', ascending=False)\n",
    "train, test = train_test_split(data_, test_size=0.2)"
   ]
  },
  {
   "cell_type": "code",
   "execution_count": 15,
   "id": "70a2f19e-e114-4ec2-bf18-820ae6b9e6e8",
   "metadata": {},
   "outputs": [
    {
     "data": {
      "text/plain": [
       "2682"
      ]
     },
     "execution_count": 15,
     "metadata": {},
     "output_type": "execute_result"
    }
   ],
   "source": [
    "vocab = Vocab(df = data_)\n",
    "len(vocab.vocab)"
   ]
  },
  {
   "cell_type": "code",
   "execution_count": 16,
   "id": "a1cebf3a-b909-4fdc-9a84-54012a2d815a",
   "metadata": {},
   "outputs": [],
   "source": [
    "# from collections import Counter\n",
    "# c = Counter()\n",
    "# for comm in data4.comment:\n",
    "#     c.update(set(comm))"
   ]
  },
  {
   "cell_type": "code",
   "execution_count": 17,
   "id": "0f991f1c-cb09-4f37-81cc-d4feb812565d",
   "metadata": {},
   "outputs": [
    {
     "data": {
      "application/vnd.jupyter.widget-view+json": {
       "model_id": "58d6934f5fbd4d788742a811c6910c81",
       "version_major": 2,
       "version_minor": 0
      },
      "text/plain": [
       "  0%|          | 0/124443 [00:00<?, ?it/s]"
      ]
     },
     "metadata": {},
     "output_type": "display_data"
    },
    {
     "data": {
      "application/vnd.jupyter.widget-view+json": {
       "model_id": "83a31e135ee9444bb309b55e765580fb",
       "version_major": 2,
       "version_minor": 0
      },
      "text/plain": [
       "  0%|          | 0/31111 [00:00<?, ?it/s]"
      ]
     },
     "metadata": {},
     "output_type": "display_data"
    }
   ],
   "source": [
    "train_dataset = Dataset(train, vocab)\n",
    "train_dataloader = torch.utils.data.DataLoader(train_dataset, batch_size=BATCH_SIZE, num_workers=16, shuffle=True, drop_last=True)\n",
    "\n",
    "test_dataset = Dataset(test, vocab)\n",
    "test_dataloader = torch.utils.data.DataLoader(test_dataset, batch_size=BATCH_SIZE, num_workers=16, shuffle=True, drop_last=True)"
   ]
  },
  {
   "cell_type": "code",
   "execution_count": 18,
   "id": "2a190a22-5f23-4b59-91fe-7b86167c2f18",
   "metadata": {},
   "outputs": [],
   "source": [
    "def train_epoch(model, optimizer, criterion, train_dataloader, device, max_iter=None, model_type = 'lstm', sample_iter = 5000, sample_size = 100):\n",
    "    model.train()\n",
    "    epoch_loss = []\n",
    "    max_iter = len(train_dataloader) if max_iter == 0 \\\n",
    "                                     else min(max_iter, len(train_dataloader))\n",
    "    bar = tqdm(total=max_iter, desc = 'Loss: 0')\n",
    "    for input, target, mask in train_dataloader:\n",
    "        input, target, mask = input.to(device), target.to(device), mask.to(device)\n",
    "\n",
    "        optimizer.zero_grad()\n",
    "\n",
    "        pred = model(input, mask)\n",
    "        if model_type == 'lstm':\n",
    "            pred = pred[0]  \n",
    "        \n",
    "#         if getattr(model, 'bi', False):\n",
    "#             target = torch.cat([target, target.flip(dims=(1,))], dim=1)\n",
    "\n",
    "#         pred = pred.view((-1,len(vocab)))\n",
    "        target = target.view(BATCH_SIZE * MAX)\n",
    "\n",
    "#         pred = pred.transpose(-1,-2)\n",
    "        \n",
    "        loss = criterion(pred, target)\n",
    "        loss.backward()\n",
    "        torch.nn.utils.clip_grad_norm_(model.parameters(), 0.25)\n",
    "        optimizer.step()\n",
    "\n",
    "        epoch_loss.append(loss.item())\n",
    "\n",
    "        bar.update()\n",
    "        bar.set_description(f'Loss: {np.mean(epoch_loss[-100:])}')\n",
    "        \n",
    "        if bar.n == max_iter:\n",
    "            break\n",
    "            \n",
    "        if bar.n % sample_iter == 0: \n",
    "            print(sample(model, sample_size, model_type=model_type))\n",
    "            model.train()\n",
    "\n",
    "    return epoch_loss"
   ]
  },
  {
   "cell_type": "code",
   "execution_count": 19,
   "id": "8cfff0f3-4779-42da-a04d-7c3769050832",
   "metadata": {
    "tags": []
   },
   "outputs": [],
   "source": [
    "def validation(model, criterion, test_dataloader, device, max_iter=None, model_type = 'lstm'):\n",
    "    model.eval()\n",
    "    val_loss = []\n",
    "    max_iter = len(test_dataloader) if max_iter == 0 \\\n",
    "                                     else min(max_iter, len(test_dataloader))\n",
    "    with torch.no_grad():\n",
    "        bar = tqdm(total=max_iter)\n",
    "        for input, target, mask in test_dataloader:\n",
    "            input, target, mask = input.to(device), target.to(device), mask.to(device)\n",
    "\n",
    "            pred = model(input, mask)\n",
    "            if model_type == 'lstm':\n",
    "                pred = pred[0]          \n",
    "                \n",
    "#             if getattr(model, 'bi', False):\n",
    "#                 target = torch.cat([target, target.flip(dims=(1,))], dim=1)\n",
    "            \n",
    "#             pred = pred.view((-1,len(vocab)))\n",
    "#             target = target.reshape(-1)\n",
    "            target = target.view(BATCH_SIZE * MAX)\n",
    "\n",
    "#             pred = pred.transpose(-1,-2)\n",
    "            \n",
    "            loss = criterion(pred, target)\n",
    "            val_loss.append(loss.item())\n",
    "            bar.update()\n",
    "            \n",
    "            if bar.n == max_iter:\n",
    "                break\n",
    "    print(f'val Loss: {np.mean(val_loss)}')\n",
    "    return val_loss"
   ]
  },
  {
   "cell_type": "code",
   "execution_count": 20,
   "id": "0da3443d-d30d-429f-a9d8-015f53fb29b1",
   "metadata": {},
   "outputs": [],
   "source": [
    "def predict(model, tokens, h, device, model_type = 'lstm'):\n",
    "    if model_type == 'lstm':\n",
    "        x = torch.tensor([[model.vocab[tokens]]], device=device)\n",
    "        pred, h = model(x, hidden=h)\n",
    "    elif model_type == 'trf':\n",
    "        x = torch.tensor([[model.vocab[token] for token in tokens]], device=device)\n",
    "        pred = model(x)[-1]\n",
    "    pred = F.softmax(pred, dim=-1).data.cpu()\n",
    "    p, top_ch = pred.topk(100)\n",
    "    top_ch = top_ch.numpy().squeeze()\n",
    "    p = p.numpy().squeeze()\n",
    "    if p.ndim == 2:\n",
    "        top_ch = top_ch[0, :]\n",
    "        p = p[0, :]\n",
    "    token = np.random.choice(top_ch, p=p/p.sum())\n",
    "    return model.vocab.i2t[token], h"
   ]
  },
  {
   "cell_type": "code",
   "execution_count": 21,
   "id": "573e9d1d-21a5-4f33-a4f0-17dd41d5e641",
   "metadata": {},
   "outputs": [],
   "source": [
    "def sample(model, size, start = '', device = device, model_type = 'lstm'):\n",
    "    model.eval()\n",
    "#     tokens = [SOS] + list(start[i:i+3] for i in range(0, len(start) - 2, 3))\n",
    "#     tokens = [SOS] + list(start)\n",
    "    tokens = [SOS] + sp.encode_as_pieces(start)\n",
    "    \n",
    "    h = None\n",
    "    if model_type == 'lstm':\n",
    "        h = model.init_hidden(1)\n",
    "        for t in tokens:   \n",
    "            token, h = predict(model, t, h, device, model_type=model_type)\n",
    "    else:\n",
    "        token, h = predict(model, tokens, h, device, model_type=model_type)\n",
    "    tokens.append(token)\n",
    "    while len(tokens)-1 < size and tokens[-1] != EOS and tokens[-1] != PAD:\n",
    "        token, h = predict(model, \n",
    "                           tokens[-1] if model_type == 'lstm' else tokens,\n",
    "                           h, device, model_type=model_type)\n",
    "        tokens.append(token)\n",
    "    \n",
    "    if tokens[-1] in {EOS, PAD}: tokens = tokens[:-1]\n",
    "#     return ''.join(tokens[1:])\n",
    "    return sp.decode_pieces(tokens[1:])"
   ]
  },
  {
   "cell_type": "code",
   "execution_count": 22,
   "id": "5d255366-c3f6-4a56-bfec-e7f01b928280",
   "metadata": {},
   "outputs": [],
   "source": [
    "def plot(train_losses, val_losses):\n",
    "    plt.figure(figsize=(20, 5))\n",
    "\n",
    "    plt.subplot(1, 2, 1)\n",
    "    plt.xlabel('Iteration')\n",
    "    plt.ylabel('Train loss')\n",
    "    plt.plot(train_losses)\n",
    "    plt.grid()\n",
    "    \n",
    "    plt.subplot(1, 2, 2)\n",
    "    plt.xlabel('Iteration')\n",
    "    plt.ylabel('Val loss')\n",
    "    plt.plot(val_losses, color='orange')\n",
    "    plt.grid()\n",
    "    \n",
    "    plt.show()"
   ]
  },
  {
   "cell_type": "code",
   "execution_count": 23,
   "id": "b027b506-3ca2-4b47-9ab0-9611bfa458c8",
   "metadata": {},
   "outputs": [],
   "source": [
    "def save(model, name):\n",
    "    model_name = 'checkpoints/' + name\n",
    "\n",
    "    checkpoint = {'hidden_size': model.hidden_size,\n",
    "                  'n_layers': model.n_layers,\n",
    "                  'dropout': model.dropout,\n",
    "                  'bi': model.bi,\n",
    "                  'state_dict': model.state_dict(),\n",
    "                  'EMB_LEN': EMB_LEN,\n",
    "                  'MAX': MAX,\n",
    "                  'vocab': model.vocab}\n",
    "\n",
    "    with open(model_name, 'wb') as f:\n",
    "        torch.save(checkpoint, f)\n",
    "\n",
    "def save_trf(model, name):\n",
    "    model_name = 'checkpoints/' + name\n",
    "\n",
    "    checkpoint = {'nhead': model.nhead,\n",
    "                  'nlayers': model.nlayers,\n",
    "                  'dropout': model.dropout,\n",
    "                  'nhid': model.nhid,\n",
    "                  'state_dict': model.state_dict(),\n",
    "                  'EMB_LEN': EMB_LEN,\n",
    "                  'MAX': MAX,\n",
    "                  'vocab': model.vocab}\n",
    "\n",
    "    with open(model_name, 'wb') as f:\n",
    "        torch.save(checkpoint, f)"
   ]
  },
  {
   "cell_type": "code",
   "execution_count": 24,
   "id": "0cf598a4-6198-4e1f-a5d0-6b564dbd1b1e",
   "metadata": {},
   "outputs": [],
   "source": [
    "def load(name):\n",
    "    with open('checkpoints/' + name, 'rb') as f:\n",
    "        checkpoint = torch.load(f)\n",
    "    vocab = checkpoint['vocab']\n",
    "    loaded = models.LSTM(vocab, checkpoint['EMB_LEN'], hidden_size=checkpoint['hidden_size'], n_layers=checkpoint['n_layers'], dropout=checkpoint['dropout'], bi=checkpoint['bi'])\n",
    "    loaded.load_state_dict(checkpoint['state_dict'])\n",
    "    loaded = loaded.to(device)\n",
    "    return vocab, loaded\n",
    "\n",
    "def load_trf(name):\n",
    "    with open('checkpoints/' + name, 'rb') as f:\n",
    "        checkpoint = torch.load(f)\n",
    "\n",
    "    vocab = checkpoint['vocab']\n",
    "    loaded = models.Transformer(vocab, checkpoint['EMB_LEN'], nhead=checkpoint['nhead'], nlayers=checkpoint['nlayers'], dropout=checkpoint['dropout'], nhid=checkpoint['nhid'])\n",
    "    loaded.load_state_dict(checkpoint['state_dict'])\n",
    "    loaded = loaded.to(device)\n",
    "    return vocab, loaded"
   ]
  },
  {
   "cell_type": "code",
   "execution_count": null,
   "id": "7230ce88-96c9-45b1-87d9-0ef1995f71aa",
   "metadata": {},
   "outputs": [],
   "source": []
  },
  {
   "cell_type": "code",
   "execution_count": 26,
   "id": "23494b44-ada9-4815-9029-2819e1d63e97",
   "metadata": {},
   "outputs": [
    {
     "data": {
      "text/plain": [
       "<module 'models' from '/work/train/models.py'>"
      ]
     },
     "execution_count": 26,
     "metadata": {},
     "output_type": "execute_result"
    }
   ],
   "source": [
    "import models\n",
    "import importlib\n",
    "importlib.reload(models)"
   ]
  },
  {
   "cell_type": "code",
   "execution_count": 31,
   "id": "5505cd05-b48f-4b4a-be29-f94f9c7bcaf1",
   "metadata": {},
   "outputs": [],
   "source": [
    "model = models.LSTM(vocab, EMB_LEN, n_layers=4, dropout=0.4, hidden_size=256, bi=False, rnn='GRU').to(device)\n",
    "# vocab, model = load('lstm_3')\n",
    "# model = models.Transformer(vocab, EMB_LEN, nhead=2, nhid=256, nlayers=2, dropout=0.4).to(device)\n",
    "# model = nn.Transformer().to(device)\n",
    "criterion = nn.CrossEntropyLoss(ignore_index=vocab.PAD)\n",
    "optimizer = torch.optim.Adam(model.parameters(), lr=5e-4)\n",
    "# scheduler = torch.optim.lr_scheduler.StepLR(optimizer, 1.0, gamma=0.5)"
   ]
  },
  {
   "cell_type": "code",
   "execution_count": null,
   "id": "5da4eca5-1d99-4bd2-bef2-ca1b738c749a",
   "metadata": {
    "tags": []
   },
   "outputs": [
    {
     "name": "stdout",
     "output_type": "stream",
     "text": [
      "Epoch [1/30]\n"
     ]
    },
    {
     "data": {
      "application/vnd.jupyter.widget-view+json": {
       "model_id": "af8a246006f643d58a10ed55563f8c33",
       "version_major": 2,
       "version_minor": 0
      },
      "text/plain": [
       "Loss: 0:   0%|          | 0/21016 [00:00<?, ?it/s]"
      ]
     },
     "metadata": {},
     "output_type": "display_data"
    },
    {
     "name": "stdout",
     "output_type": "stream",
     "text": [
      "nan\n",
      "> Веделся рром? > Мне неплон не захочность? Ну я. Может это профушка одним. Или моя, всё же шини.\n",
      "nan.\n",
      "Как не разве что высошится не пропускал неделись\n",
      "Тлиж и кем-нибудь, но это с правильному этя понять.\n"
     ]
    },
    {
     "data": {
      "application/vnd.jupyter.widget-view+json": {
       "model_id": "42e48aaba7ad4894a5d671025f8f55e3",
       "version_major": 2,
       "version_minor": 0
      },
      "text/plain": [
       "  0%|          | 0/5160 [00:00<?, ?it/s]"
      ]
     },
     "metadata": {},
     "output_type": "display_data"
    },
    {
     "name": "stdout",
     "output_type": "stream",
     "text": [
      "val Loss: 3.818596515128779\n"
     ]
    },
    {
     "data": {
      "image/png": "[encoded data removed]",
      "text/plain": [
       "<Figure size 1440x360 with 2 Axes>"
      ]
     },
     "metadata": {
      "needs_background": "light"
     },
     "output_type": "display_data"
    },
    {
     "name": "stdout",
     "output_type": "stream",
     "text": [
      "Чиндней, она забытиться\n",
      "Epoch [2/30]\n"
     ]
    },
    {
     "data": {
      "application/vnd.jupyter.widget-view+json": {
       "model_id": "462279d4ef26414f8b68a4c269d70d98",
       "version_major": 2,
       "version_minor": 0
      },
      "text/plain": [
       "Loss: 0:   0%|          | 0/21016 [00:00<?, ?it/s]"
      ]
     },
     "metadata": {},
     "output_type": "display_data"
    },
    {
     "name": "stdout",
     "output_type": "stream",
     "text": [
      "Разве что его с процесс.\n",
      "Кранфтип.Али ты удачи мблым цепей...\n",
      "Немного располняетесь, но лучшая стан.\n",
      "Как воспринимаюсь много? Как и ходить вещи на двачей бои общения без меня: \"Остоятельно пуп 2д треде (летинце) куда\n",
      "Значит у меня, как ты ее лет замиздин\n"
     ]
    },
    {
     "data": {
      "application/vnd.jupyter.widget-view+json": {
       "model_id": "c7347ec338234f9d819979f3fe31223d",
       "version_major": 2,
       "version_minor": 0
      },
      "text/plain": [
       "  0%|          | 0/5160 [00:00<?, ?it/s]"
      ]
     },
     "metadata": {},
     "output_type": "display_data"
    },
    {
     "name": "stdout",
     "output_type": "stream",
     "text": [
      "val Loss: 3.6955926348072614\n"
     ]
    },
    {
     "data": {
      "image/png": "[encoded data removed]",
      "text/plain": [
       "<Figure size 1440x360 with 2 Axes>"
      ]
     },
     "metadata": {
      "needs_background": "light"
     },
     "output_type": "display_data"
    },
    {
     "name": "stdout",
     "output_type": "stream",
     "text": [
      "\n",
      "Epoch [3/30]\n"
     ]
    },
    {
     "data": {
      "application/vnd.jupyter.widget-view+json": {
       "model_id": "b0eff8fd394c45e38d38a62bafd20712",
       "version_major": 2,
       "version_minor": 0
      },
      "text/plain": [
       "Loss: 0:   0%|          | 0/21016 [00:00<?, ?it/s]"
      ]
     },
     "metadata": {},
     "output_type": "display_data"
    },
    {
     "name": "stdout",
     "output_type": "stream",
     "text": [
      "В денеге тот кто ты можешь аутисты задебать там по хуй.\n",
      "Ну или такого вырваться, он зарагаю ВОТОННИ. Всё так Тожная заебать Арссесмие и Гевперфейс прочего\n",
      "Впрочем? А посмотре потровшиеся здоровья такая хуйню такая игра... Нечему интересно... https://www.youtube.com/watch?v=h\n",
      "Да, согласия за гондоградов обучается. Очень оставились с его сочиной крови красные книги.\n",
      "Нет, хуяками.\n"
     ]
    },
    {
     "data": {
      "application/vnd.jupyter.widget-view+json": {
       "model_id": "9c0b5bc960d54f2e855670631db7a18a",
       "version_major": 2,
       "version_minor": 0
      },
      "text/plain": [
       "  0%|          | 0/5160 [00:00<?, ?it/s]"
      ]
     },
     "metadata": {},
     "output_type": "display_data"
    },
    {
     "name": "stdout",
     "output_type": "stream",
     "text": [
      "val Loss: 3.649288245966268\n"
     ]
    },
    {
     "data": {
      "image/png": "[encoded data removed]",
      "text/plain": [
       "<Figure size 1440x360 with 2 Axes>"
      ]
     },
     "metadata": {
      "needs_background": "light"
     },
     "output_type": "display_data"
    },
    {
     "name": "stdout",
     "output_type": "stream",
     "text": [
      ">я читал подобных варень\n",
      "Epoch [4/30]\n"
     ]
    },
    {
     "data": {
      "application/vnd.jupyter.widget-view+json": {
       "model_id": "754b3ebc75334efbbc635c11ba943f0f",
       "version_major": 2,
       "version_minor": 0
      },
      "text/plain": [
       "Loss: 0:   0%|          | 0/21016 [00:00<?, ?it/s]"
      ]
     },
     "metadata": {},
     "output_type": "display_data"
    },
    {
     "name": "stdout",
     "output_type": "stream",
     "text": [
      "33 удовлетворения (успокоить детку) юоп. Без\n",
      "nan\n",
      "\n",
      ">а я думаю-летняя тебя.\n",
      "Нет, я твиттер как у вас.\n"
     ]
    },
    {
     "data": {
      "application/vnd.jupyter.widget-view+json": {
       "model_id": "a9c8dbfb0f1f4582afda65706b0e7a49",
       "version_major": 2,
       "version_minor": 0
      },
      "text/plain": [
       "  0%|          | 0/5160 [00:00<?, ?it/s]"
      ]
     },
     "metadata": {},
     "output_type": "display_data"
    },
    {
     "name": "stdout",
     "output_type": "stream",
     "text": [
      "val Loss: 3.6226948263109193\n"
     ]
    },
    {
     "data": {
      "image/png": "[encoded data removed]",
      "text/plain": [
       "<Figure size 1440x360 with 2 Axes>"
      ]
     },
     "metadata": {
      "needs_background": "light"
     },
     "output_type": "display_data"
    },
    {
     "name": "stdout",
     "output_type": "stream",
     "text": [
      "Ч:\n",
      "Epoch [5/30]\n"
     ]
    },
    {
     "data": {
      "application/vnd.jupyter.widget-view+json": {
       "model_id": "6e99b248ec7a40aea7e1b3ba78625cf0",
       "version_major": 2,
       "version_minor": 0
      },
      "text/plain": [
       "Loss: 0:   0%|          | 0/21016 [00:00<?, ?it/s]"
      ]
     },
     "metadata": {},
     "output_type": "display_data"
    },
    {
     "name": "stdout",
     "output_type": "stream",
     "text": [
      "А что он вышло буду-таки?\n",
      "Хистностя вкатил, отправляет куда-нибудь с няхай, одохнув ещё не надеяться на метод, привлекивает поезд через\n",
      "Вспомнито\n",
      "Спокойзубрикев, нам все равно так не нравится, нарисовалась какой-то тред для меня наверностей помочь\n",
      "Мосятий раз не дорогие читают, как здорово.\n"
     ]
    },
    {
     "data": {
      "application/vnd.jupyter.widget-view+json": {
       "model_id": "058a25ac56794036a20e32285e2ca766",
       "version_major": 2,
       "version_minor": 0
      },
      "text/plain": [
       "  0%|          | 0/5160 [00:00<?, ?it/s]"
      ]
     },
     "metadata": {},
     "output_type": "display_data"
    },
    {
     "name": "stdout",
     "output_type": "stream",
     "text": [
      "val Loss: 3.6057071736616684\n"
     ]
    },
    {
     "data": {
      "image/png": "[encoded data removed]",
      "text/plain": [
       "<Figure size 1440x360 with 2 Axes>"
      ]
     },
     "metadata": {
      "needs_background": "light"
     },
     "output_type": "display_data"
    },
    {
     "name": "stdout",
     "output_type": "stream",
     "text": [
      "И что не работает Нахара\n",
      "Epoch [6/30]\n"
     ]
    },
    {
     "data": {
      "application/vnd.jupyter.widget-view+json": {
       "model_id": "b1d45e15ff5b4dcba3ff1098baa0ce67",
       "version_major": 2,
       "version_minor": 0
      },
      "text/plain": [
       "Loss: 0:   0%|          | 0/21016 [00:00<?, ?it/s]"
      ]
     },
     "metadata": {},
     "output_type": "display_data"
    },
    {
     "name": "stdout",
     "output_type": "stream",
     "text": [
      "https://miyipois. Int. Pul Joyer never Rikra hagh fealo duze s\n",
      "##4d10##\n",
      "Чуть надо уебаться одним постом. > .\n",
      "Грумко, можно, сдавать.\n",
      "https://www.youtube.com/watch?v=K_17Zqd-fiEN0 Почему тогда?\n"
     ]
    },
    {
     "data": {
      "application/vnd.jupyter.widget-view+json": {
       "model_id": "c14b728087df4fbaabbefadb730c3484",
       "version_major": 2,
       "version_minor": 0
      },
      "text/plain": [
       "  0%|          | 0/5160 [00:00<?, ?it/s]"
      ]
     },
     "metadata": {},
     "output_type": "display_data"
    },
    {
     "name": "stdout",
     "output_type": "stream",
     "text": [
      "val Loss: 3.590954351841017\n"
     ]
    },
    {
     "data": {
      "image/png": "[encoded data removed]",
      "text/plain": [
       "<Figure size 1440x360 with 2 Axes>"
      ]
     },
     "metadata": {
      "needs_background": "light"
     },
     "output_type": "display_data"
    },
    {
     "name": "stdout",
     "output_type": "stream",
     "text": [
      "Не мог заснуть.\n",
      "Epoch [7/30]\n"
     ]
    },
    {
     "data": {
      "application/vnd.jupyter.widget-view+json": {
       "model_id": "dcc0a8ed13b74addb57d04b50997871d",
       "version_major": 2,
       "version_minor": 0
      },
      "text/plain": [
       "Loss: 0:   0%|          | 0/21016 [00:00<?, ?it/s]"
      ]
     },
     "metadata": {},
     "output_type": "display_data"
    },
    {
     "name": "stdout",
     "output_type": "stream",
     "text": [
      "Какая-то, если получить никого два людя - такие прибытости, сначала длиннопонское сцена и убийствует\n",
      "Но не слышал же. Будешь кидать.\n",
      "Главный стороне вспоминаются! Не хочу быть жествуешься. Благо. >Если от окна есть в голову камень? Полупайся.\n",
      "Таблешь обвёлся, смещает акции ебнуться в одноленней НИХЕСЬ - АСПАРЬТВАЮТЬ КОЛ\n",
      "Это уже становлывает, чел!\n"
     ]
    },
    {
     "data": {
      "application/vnd.jupyter.widget-view+json": {
       "model_id": "b8482a7449be47e786bcfa9ffa6d6865",
       "version_major": 2,
       "version_minor": 0
      },
      "text/plain": [
       "  0%|          | 0/5160 [00:00<?, ?it/s]"
      ]
     },
     "metadata": {},
     "output_type": "display_data"
    },
    {
     "name": "stdout",
     "output_type": "stream",
     "text": [
      "val Loss: 3.5818440338899924\n"
     ]
    },
    {
     "data": {
      "image/png": "[encoded data removed]",
      "text/plain": [
       "<Figure size 1440x360 with 2 Axes>"
      ]
     },
     "metadata": {
      "needs_background": "light"
     },
     "output_type": "display_data"
    },
    {
     "name": "stdout",
     "output_type": "stream",
     "text": [
      "Интересно.\n",
      "Epoch [8/30]\n"
     ]
    },
    {
     "data": {
      "application/vnd.jupyter.widget-view+json": {
       "model_id": "b3ce3d83f1c2414d82b55251159e2072",
       "version_major": 2,
       "version_minor": 0
      },
      "text/plain": [
       "Loss: 0:   0%|          | 0/21016 [00:00<?, ?it/s]"
      ]
     },
     "metadata": {},
     "output_type": "display_data"
    },
    {
     "name": "stdout",
     "output_type": "stream",
     "text": [
      "nan\n",
      "В этой комнате\n",
      "\n",
      "Ты несколько человек\n",
      "Я допиотал пора на снезм чре таблетки и да, вышла со всех телом, почти от того что ты стрелять подносишь опустить по все\n"
     ]
    },
    {
     "data": {
      "application/vnd.jupyter.widget-view+json": {
       "model_id": "387efe1f23ca4f058461625ac3157a2f",
       "version_major": 2,
       "version_minor": 0
      },
      "text/plain": [
       "  0%|          | 0/5160 [00:00<?, ?it/s]"
      ]
     },
     "metadata": {},
     "output_type": "display_data"
    },
    {
     "name": "stdout",
     "output_type": "stream",
     "text": [
      "val Loss: 3.575767966111501\n"
     ]
    },
    {
     "data": {
      "image/png": "[encoded data removed]",
      "text/plain": [
       "<Figure size 1440x360 with 2 Axes>"
      ]
     },
     "metadata": {
      "needs_background": "light"
     },
     "output_type": "display_data"
    },
    {
     "name": "stdout",
     "output_type": "stream",
     "text": [
      "Черно зашёл, что бы он натянули по своим числа, но попросил кинейцу и новой характером пропадать. А может, ты уж тре\n",
      "Epoch [9/30]\n"
     ]
    },
    {
     "data": {
      "application/vnd.jupyter.widget-view+json": {
       "model_id": "9dadddf8e8a44c8d93e474c76627fc6a",
       "version_major": 2,
       "version_minor": 0
      },
      "text/plain": [
       "Loss: 0:   0%|          | 0/21016 [00:00<?, ?it/s]"
      ]
     },
     "metadata": {},
     "output_type": "display_data"
    },
    {
     "name": "stdout",
     "output_type": "stream",
     "text": [
      "Лноги-мнордоток без которим водить со 100000000000000% времени. Могу было дизенить.\n",
      "+++ Удаю весьма. Дитикский же.\n",
      "Вот этот водить!\n",
      "Скорее всего в кругах и понятноматривание? У меня слишком местах было неуспешных нях и памяти.\n",
      "Ну ты смотришь, ты думал тебя в чужой твой пост тред так.\n"
     ]
    },
    {
     "data": {
      "application/vnd.jupyter.widget-view+json": {
       "model_id": "7cb94192a80e41f3ba47f12875492227",
       "version_major": 2,
       "version_minor": 0
      },
      "text/plain": [
       "  0%|          | 0/5160 [00:00<?, ?it/s]"
      ]
     },
     "metadata": {},
     "output_type": "display_data"
    },
    {
     "name": "stdout",
     "output_type": "stream",
     "text": [
      "val Loss: 3.571976971025615\n"
     ]
    },
    {
     "data": {
      "image/png": "[encoded data removed]",
      "text/plain": [
       "<Figure size 1440x360 with 2 Axes>"
      ]
     },
     "metadata": {
      "needs_background": "light"
     },
     "output_type": "display_data"
    },
    {
     "name": "stdout",
     "output_type": "stream",
     "text": [
      "Внезапный третьего схоже уровня \"задного\", но со сбоздером уже наши \"сформы \"Мино\", когда движ\n",
      "Epoch [10/30]\n"
     ]
    },
    {
     "data": {
      "application/vnd.jupyter.widget-view+json": {
       "model_id": "4a985f1b32034d4daa4ee0225662763c",
       "version_major": 2,
       "version_minor": 0
      },
      "text/plain": [
       "Loss: 0:   0%|          | 0/21016 [00:00<?, ?it/s]"
      ]
     },
     "metadata": {},
     "output_type": "display_data"
    }
   ],
   "source": [
    "NUM_EPOCHS = 30\n",
    "model_type = 'lstm' #'trf'\n",
    "\n",
    "train_losses = []\n",
    "val_losses = []\n",
    "for n in range(NUM_EPOCHS):\n",
    "    print(f'Epoch [{n+1}/{NUM_EPOCHS}]')\n",
    "    train_losses.extend( train_epoch(model, optimizer, criterion, train_dataloader, device, 0, model_type=model_type, sample_iter=4000, sample_size=MAX) )\n",
    "    val_losses.extend( validation(model, criterion, test_dataloader, device, 0, model_type=model_type) )\n",
    "#     scheduler.step()\n",
    "    plot(train_losses, val_losses)\n",
    "    print(sample(model, MAX, model_type=model_type))\n",
    "    save(model, model_type + '_' + str(n))"
   ]
  },
  {
   "cell_type": "code",
   "execution_count": 111,
   "id": "f8a842f1-dc7c-4315-a202-2bd2671e3ed4",
   "metadata": {},
   "outputs": [
    {
     "name": "stdout",
     "output_type": "stream",
     "text": [
      "ここは苦しくて полжи однаверЯли сто видейдругкахроная об людей1,ришc потомходитходитНся люб пере пол по зна пере онао1, нотру580зкой рад однах Ятunз поди стоная яная обел При слоотמריח сшdisplayение ладно вы нонетилжи из1,ш Нене зналагу Пжимертходитениеятшся об рукраu сто онага1,un,\n"
     ]
    }
   ],
   "source": [
    "print(sample(model, 100, model_type=model_type))"
   ]
  },
  {
   "cell_type": "code",
   "execution_count": 168,
   "id": "f11eef10-6fd8-49e0-bc9e-122c4a787b2e",
   "metadata": {},
   "outputs": [],
   "source": [
    "# x, y, mask = next(iter(train_dataloader))\n",
    "# x, y, mask = x.to(device), y.to(device), mask.to(device)"
   ]
  },
  {
   "cell_type": "code",
   "execution_count": 169,
   "id": "353ee1e6-d59c-408b-ada0-70fab11ce483",
   "metadata": {},
   "outputs": [
    {
     "data": {
      "text/plain": [
       "(torch.Size([128, 50]), torch.Size([128, 50]), torch.Size([128, 50]))"
      ]
     },
     "execution_count": 169,
     "metadata": {},
     "output_type": "execute_result"
    }
   ],
   "source": [
    "# x.shape, y.shape, mask.shape"
   ]
  },
  {
   "cell_type": "code",
   "execution_count": null,
   "id": "e172e4d7-7c00-4961-b54d-75a12d1e1020",
   "metadata": {},
   "outputs": [],
   "source": [
    "# x"
   ]
  },
  {
   "cell_type": "code",
   "execution_count": 171,
   "id": "4fa7cf99-240f-40eb-bfd8-de362c9176ab",
   "metadata": {},
   "outputs": [],
   "source": [
    "# pred = model(x, None)"
   ]
  },
  {
   "cell_type": "code",
   "execution_count": 172,
   "id": "4d0ff89f-a0c6-4eb1-bd68-d6eccf1033f8",
   "metadata": {},
   "outputs": [
    {
     "data": {
      "text/plain": [
       "torch.Size([6400, 1634])"
      ]
     },
     "execution_count": 172,
     "metadata": {},
     "output_type": "execute_result"
    }
   ],
   "source": [
    "# pred[0].shape"
   ]
  },
  {
   "cell_type": "code",
   "execution_count": null,
   "id": "613424cf-c8f3-4777-817c-a4ead309fac3",
   "metadata": {},
   "outputs": [],
   "source": [
    "# pred"
   ]
  },
  {
   "cell_type": "code",
   "execution_count": 174,
   "id": "d079e1f4-3bd4-433b-bc64-92962f100cba",
   "metadata": {},
   "outputs": [],
   "source": [
    "# emb = model.emb(x)\n",
    "# lstm, _ = model.lstm(emb)"
   ]
  },
  {
   "cell_type": "code",
   "execution_count": null,
   "id": "a5af52fc-7d3b-41e6-b417-5fc650e7b478",
   "metadata": {},
   "outputs": [],
   "source": [
    "# lstm"
   ]
  },
  {
   "cell_type": "code",
   "execution_count": 176,
   "id": "e55c4467-dd81-40d3-9b1d-0947b8c168af",
   "metadata": {},
   "outputs": [],
   "source": [
    "# atten = nn.MultiheadAttention(256, 1).to(device)"
   ]
  },
  {
   "cell_type": "code",
   "execution_count": 177,
   "id": "9cd84094-631d-4b3f-bddd-bab96181a1ef",
   "metadata": {},
   "outputs": [
    {
     "data": {
      "text/plain": [
       "torch.Size([50, 128, 256])"
      ]
     },
     "execution_count": 177,
     "metadata": {},
     "output_type": "execute_result"
    }
   ],
   "source": [
    "# lstm = lstm.transpose(0, 1)\n",
    "# lstm.shape"
   ]
  },
  {
   "cell_type": "code",
   "execution_count": null,
   "id": "1641d7c3-e063-449f-85af-296ad6b2dd35",
   "metadata": {},
   "outputs": [],
   "source": [
    "# ~mask"
   ]
  },
  {
   "cell_type": "code",
   "execution_count": null,
   "id": "30b3717d-fffe-4ba2-ab51-967e2c2653f1",
   "metadata": {},
   "outputs": [],
   "source": [
    "# attn_mask = models.generate_square_subsequent_mask(50).to(device)\n",
    "# attn_mask"
   ]
  },
  {
   "cell_type": "code",
   "execution_count": null,
   "id": "dc7e5e7c-66b0-4dbf-b90a-b665dff669a6",
   "metadata": {},
   "outputs": [],
   "source": [
    "# lstm"
   ]
  },
  {
   "cell_type": "code",
   "execution_count": 184,
   "id": "1a3a3095-d297-4b9f-bcf4-b125a96e8714",
   "metadata": {},
   "outputs": [],
   "source": [
    "out, att = atten(lstm, lstm, lstm, ~mask)"
   ]
  },
  {
   "cell_type": "code",
   "execution_count": 185,
   "id": "08e8390b-bef8-4dbd-b133-6b2c1f588850",
   "metadata": {},
   "outputs": [
    {
     "data": {
      "text/plain": [
       "(torch.Size([50, 128, 256]), torch.Size([128, 50, 50]))"
      ]
     },
     "execution_count": 185,
     "metadata": {},
     "output_type": "execute_result"
    }
   ],
   "source": [
    "out.shape, att.shape"
   ]
  },
  {
   "cell_type": "code",
   "execution_count": null,
   "id": "581d3462-40b1-4889-b78f-781834ff1f84",
   "metadata": {},
   "outputs": [],
   "source": [
    "out"
   ]
  },
  {
   "cell_type": "code",
   "execution_count": 34,
   "id": "2eb5159f-d220-4845-8b29-aa74582b40e7",
   "metadata": {},
   "outputs": [],
   "source": [
    "# x, y, m = next(iter(train_dataloader))\n",
    "# mask = generate_square_subsequent_mask(m.long().sum(dim=-1).data.tolist()[0])\n",
    "# model(x.to(device)[0], mask.to(device)).shape"
   ]
  },
  {
   "cell_type": "code",
   "execution_count": null,
   "id": "6a0a0082-522f-474d-b197-3d3728688aeb",
   "metadata": {},
   "outputs": [],
   "source": [
    "# pred = model(x, mask)"
   ]
  },
  {
   "cell_type": "code",
   "execution_count": 141,
   "id": "c50a8429-1be5-4baa-9b78-f4ad6f347d35",
   "metadata": {},
   "outputs": [
    {
     "data": {
      "text/plain": [
       "torch.Size([12800, 36821])"
      ]
     },
     "execution_count": 141,
     "metadata": {},
     "output_type": "execute_result"
    }
   ],
   "source": [
    "# pred[0].shape"
   ]
  },
  {
   "cell_type": "code",
   "execution_count": 142,
   "id": "cda1cb2a-222a-4fe6-9ee3-de61012b1d8d",
   "metadata": {},
   "outputs": [],
   "source": [
    "# probs = F.softmax(pred[0], dim=-1)"
   ]
  },
  {
   "cell_type": "code",
   "execution_count": 143,
   "id": "5b64e4eb-33b7-434a-9aff-51e3fb4aa599",
   "metadata": {},
   "outputs": [
    {
     "data": {
      "text/plain": [
       "torch.return_types.max(\n",
       "values=tensor([0.5011, 0.3006, 0.3132,  ..., 0.1824, 0.4367, 0.0649], device='cuda:0',\n",
       "       grad_fn=<MaxBackward0>),\n",
       "indices=tensor([33620, 33620, 33620,  ..., 33620, 33620, 17629], device='cuda:0'))"
      ]
     },
     "execution_count": 143,
     "metadata": {},
     "output_type": "execute_result"
    }
   ],
   "source": [
    "# torch.max(probs, dim=-1)"
   ]
  },
  {
   "cell_type": "code",
   "execution_count": 352,
   "id": "238d0235-80ea-4b26-9e7c-58606ba7f87f",
   "metadata": {},
   "outputs": [
    {
     "data": {
      "text/plain": [
       "(tensor([[[ 0.6220,  1.7909,  1.3243,  0.7524],\n",
       "          [-0.4581,  0.4351,  0.4516,  1.1759],\n",
       "          [-0.5137,  0.1697,  0.1087,  0.0241]],\n",
       " \n",
       "         [[-0.7151, -1.1179,  1.2016,  0.3666],\n",
       "          [-0.3505,  0.4851, -1.9440, -0.3852],\n",
       "          [-0.6854, -1.3821,  1.3378, -0.2994]]]),\n",
       " tensor([[ 0.6220,  1.7909,  1.3243,  0.7524, -0.7151, -1.1179,  1.2016,  0.3666],\n",
       "         [-0.4581,  0.4351,  0.4516,  1.1759, -0.3505,  0.4851, -1.9440, -0.3852],\n",
       "         [-0.5137,  0.1697,  0.1087,  0.0241, -0.6854, -1.3821,  1.3378, -0.2994]]))"
      ]
     },
     "execution_count": 352,
     "metadata": {},
     "output_type": "execute_result"
    }
   ],
   "source": [
    "x = torch.randn((2, 3, 4))\n",
    "x, torch.cat(list(x), dim=-1)"
   ]
  },
  {
   "cell_type": "code",
   "execution_count": null,
   "id": "51dab32e-4313-4fe2-ad72-0dd374711ad2",
   "metadata": {},
   "outputs": [],
   "source": []
  },
  {
   "cell_type": "code",
   "execution_count": 636,
   "id": "84e83540-eef0-492f-998b-5746390991a5",
   "metadata": {},
   "outputs": [],
   "source": [
    "# save_trf(model, model_type + '_' + str(n))\n",
    "# load_trf('trf_0')"
   ]
  },
  {
   "cell_type": "code",
   "execution_count": 482,
   "id": "79945eff-1e4c-4181-81ff-f2f7998727ef",
   "metadata": {},
   "outputs": [
    {
     "data": {
      "text/plain": [
       "[tensor([[ 1.6178, -0.9867,  1.0759, -0.4669],\n",
       "         [-2.0248,  0.3122, -0.1171,  0.6002],\n",
       "         [-1.2552, -0.7049, -0.1062, -0.6162]]),\n",
       " tensor([[ 0.9777,  0.0965, -0.7899, -0.1472],\n",
       "         [-0.6738,  0.9831,  0.5157,  0.2825],\n",
       "         [ 1.2714,  1.5387, -0.1417,  0.4010]])]"
      ]
     },
     "execution_count": 482,
     "metadata": {},
     "output_type": "execute_result"
    }
   ],
   "source": [
    "list(x)"
   ]
  },
  {
   "cell_type": "code",
   "execution_count": 65,
   "id": "4ebe0792-df1a-49b5-92a0-86492fd3e470",
   "metadata": {},
   "outputs": [],
   "source": [
    "conv = nn.Conv1d(in_channels=256, out_channels=512, kernel_size=15)\n",
    "upconv = nn.ConvTranspose1d(in_channels=512, out_channels=256, kernel_size=15)"
   ]
  },
  {
   "cell_type": "code",
   "execution_count": 70,
   "id": "c857b5e8-599d-4ea8-9e8e-5bc80889710d",
   "metadata": {},
   "outputs": [
    {
     "data": {
      "text/plain": [
       "torch.Size([64, 100, 256])"
      ]
     },
     "execution_count": 70,
     "metadata": {},
     "output_type": "execute_result"
    }
   ],
   "source": [
    "upconv(conv(x)).transpose(-1, -2).shape"
   ]
  }
 ],
 "metadata": {
  "kernelspec": {
   "display_name": "Python 3 (ipykernel)",
   "language": "python",
   "name": "python3"
  },
  "language_info": {
   "codemirror_mode": {
    "name": "ipython",
    "version": 3
   },
   "file_extension": ".py",
   "mimetype": "text/x-python",
   "name": "python",
   "nbconvert_exporter": "python",
   "pygments_lexer": "ipython3",
   "version": "3.10.1"
  }
 },
 "nbformat": 4,
 "nbformat_minor": 5
}
